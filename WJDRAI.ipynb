{
  "nbformat": 4,
  "nbformat_minor": 0,
  "metadata": {
    "colab": {
      "provenance": [],
      "gpuType": "T4",
      "cell_execution_strategy": "setup",
      "mount_file_id": "1UX1FqeezzAeymuiVd_fcunrkPPJ7wlzV",
      "authorship_tag": "ABX9TyNnpAnPvEc2Nns8k0WGoYJ4",
      "include_colab_link": true
    },
    "kernelspec": {
      "name": "python3",
      "display_name": "Python 3"
    },
    "language_info": {
      "name": "python"
    },
    "accelerator": "GPU"
  },
  "cells": [
    {
      "cell_type": "markdown",
      "metadata": {
        "id": "view-in-github",
        "colab_type": "text"
      },
      "source": [
        "<a href=\"https://colab.research.google.com/github/fsmox/WJDRAI/blob/main/WJDRAI.ipynb\" target=\"_parent\"><img src=\"https://colab.research.google.com/assets/colab-badge.svg\" alt=\"Open In Colab\"/></a>"
      ]
    },
    {
      "cell_type": "code",
      "source": [
        "import torch\n",
        "import torch.nn as nn\n",
        "import torch.optim as optim\n",
        "from torch.utils.data import Dataset, DataLoader\n",
        "from torchvision import transforms, models\n",
        "from torchvision.transforms import functional as F\n",
        "from PIL import Image\n",
        "import matplotlib.pyplot as plt\n",
        "import os\n",
        "import re"
      ],
      "metadata": {
        "id": "27mzp2p6EX9V"
      },
      "execution_count": 1,
      "outputs": []
    },
    {
      "cell_type": "code",
      "source": [
        "import sys\n",
        "sys.path.append('/content/drive/MyDrive/Colab Notebooks')\n",
        "from Model import CaptureDataset, ResizePad,ClickPredictionModel"
      ],
      "metadata": {
        "id": "Bda1TXpDr3sh"
      },
      "execution_count": 8,
      "outputs": []
    },
    {
      "cell_type": "code",
      "source": [
        "DataFolder = 'drive/MyDrive/AIData'"
      ],
      "metadata": {
        "id": "vaAcyEBmKj1h"
      },
      "execution_count": null,
      "outputs": []
    },
    {
      "cell_type": "code",
      "source": [
        "# prompt: 从本地上传数据（data.7z）到工作空间,并解压到data文件夹\n",
        "\n",
        "!pip install py7zr\n",
        "\n",
        "import py7zr\n",
        "\n",
        "# 上传数据\n",
        "from google.colab import files\n",
        "uploaded = files.upload()\n",
        "\n",
        "# 解压到data文件夹\n",
        "for fn in uploaded.keys():\n",
        "  if fn.endswith('.7z'):\n",
        "    with py7zr.SevenZipFile(fn, mode='r') as z:\n",
        "      z.extractall(path=DataFolder)\n",
        "      print(f'文件 {fn} 解压到 data 文件夹.')\n"
      ],
      "metadata": {
        "colab": {
          "base_uri": "https://localhost:8080/",
          "height": 266
        },
        "id": "-W6VgDPvFL4B",
        "outputId": "01be402d-b689-45b2-ab6d-1990e1e6ff6a"
      },
      "execution_count": null,
      "outputs": [
        {
          "output_type": "stream",
          "name": "stdout",
          "text": [
            "Requirement already satisfied: py7zr in /usr/local/lib/python3.11/dist-packages (0.22.0)\n",
            "Requirement already satisfied: texttable in /usr/local/lib/python3.11/dist-packages (from py7zr) (1.7.0)\n",
            "Requirement already satisfied: pycryptodomex>=3.16.0 in /usr/local/lib/python3.11/dist-packages (from py7zr) (3.22.0)\n",
            "Requirement already satisfied: pyzstd>=0.15.9 in /usr/local/lib/python3.11/dist-packages (from py7zr) (0.16.2)\n",
            "Requirement already satisfied: pyppmd<1.2.0,>=1.1.0 in /usr/local/lib/python3.11/dist-packages (from py7zr) (1.1.1)\n",
            "Requirement already satisfied: pybcj<1.1.0,>=1.0.0 in /usr/local/lib/python3.11/dist-packages (from py7zr) (1.0.3)\n",
            "Requirement already satisfied: multivolumefile>=0.2.3 in /usr/local/lib/python3.11/dist-packages (from py7zr) (0.2.3)\n",
            "Requirement already satisfied: inflate64<1.1.0,>=1.0.0 in /usr/local/lib/python3.11/dist-packages (from py7zr) (1.0.1)\n",
            "Requirement already satisfied: brotli>=1.1.0 in /usr/local/lib/python3.11/dist-packages (from py7zr) (1.1.0)\n",
            "Requirement already satisfied: psutil in /usr/local/lib/python3.11/dist-packages (from py7zr) (5.9.5)\n"
          ]
        },
        {
          "output_type": "display_data",
          "data": {
            "text/plain": [
              "<IPython.core.display.HTML object>"
            ],
            "text/html": [
              "\n",
              "     <input type=\"file\" id=\"files-51a5f570-8f5a-4d36-8d45-0689ee602320\" name=\"files[]\" multiple disabled\n",
              "        style=\"border:none\" />\n",
              "     <output id=\"result-51a5f570-8f5a-4d36-8d45-0689ee602320\">\n",
              "      Upload widget is only available when the cell has been executed in the\n",
              "      current browser session. Please rerun this cell to enable.\n",
              "      </output>\n",
              "      <script>// Copyright 2017 Google LLC\n",
              "//\n",
              "// Licensed under the Apache License, Version 2.0 (the \"License\");\n",
              "// you may not use this file except in compliance with the License.\n",
              "// You may obtain a copy of the License at\n",
              "//\n",
              "//      http://www.apache.org/licenses/LICENSE-2.0\n",
              "//\n",
              "// Unless required by applicable law or agreed to in writing, software\n",
              "// distributed under the License is distributed on an \"AS IS\" BASIS,\n",
              "// WITHOUT WARRANTIES OR CONDITIONS OF ANY KIND, either express or implied.\n",
              "// See the License for the specific language governing permissions and\n",
              "// limitations under the License.\n",
              "\n",
              "/**\n",
              " * @fileoverview Helpers for google.colab Python module.\n",
              " */\n",
              "(function(scope) {\n",
              "function span(text, styleAttributes = {}) {\n",
              "  const element = document.createElement('span');\n",
              "  element.textContent = text;\n",
              "  for (const key of Object.keys(styleAttributes)) {\n",
              "    element.style[key] = styleAttributes[key];\n",
              "  }\n",
              "  return element;\n",
              "}\n",
              "\n",
              "// Max number of bytes which will be uploaded at a time.\n",
              "const MAX_PAYLOAD_SIZE = 100 * 1024;\n",
              "\n",
              "function _uploadFiles(inputId, outputId) {\n",
              "  const steps = uploadFilesStep(inputId, outputId);\n",
              "  const outputElement = document.getElementById(outputId);\n",
              "  // Cache steps on the outputElement to make it available for the next call\n",
              "  // to uploadFilesContinue from Python.\n",
              "  outputElement.steps = steps;\n",
              "\n",
              "  return _uploadFilesContinue(outputId);\n",
              "}\n",
              "\n",
              "// This is roughly an async generator (not supported in the browser yet),\n",
              "// where there are multiple asynchronous steps and the Python side is going\n",
              "// to poll for completion of each step.\n",
              "// This uses a Promise to block the python side on completion of each step,\n",
              "// then passes the result of the previous step as the input to the next step.\n",
              "function _uploadFilesContinue(outputId) {\n",
              "  const outputElement = document.getElementById(outputId);\n",
              "  const steps = outputElement.steps;\n",
              "\n",
              "  const next = steps.next(outputElement.lastPromiseValue);\n",
              "  return Promise.resolve(next.value.promise).then((value) => {\n",
              "    // Cache the last promise value to make it available to the next\n",
              "    // step of the generator.\n",
              "    outputElement.lastPromiseValue = value;\n",
              "    return next.value.response;\n",
              "  });\n",
              "}\n",
              "\n",
              "/**\n",
              " * Generator function which is called between each async step of the upload\n",
              " * process.\n",
              " * @param {string} inputId Element ID of the input file picker element.\n",
              " * @param {string} outputId Element ID of the output display.\n",
              " * @return {!Iterable<!Object>} Iterable of next steps.\n",
              " */\n",
              "function* uploadFilesStep(inputId, outputId) {\n",
              "  const inputElement = document.getElementById(inputId);\n",
              "  inputElement.disabled = false;\n",
              "\n",
              "  const outputElement = document.getElementById(outputId);\n",
              "  outputElement.innerHTML = '';\n",
              "\n",
              "  const pickedPromise = new Promise((resolve) => {\n",
              "    inputElement.addEventListener('change', (e) => {\n",
              "      resolve(e.target.files);\n",
              "    });\n",
              "  });\n",
              "\n",
              "  const cancel = document.createElement('button');\n",
              "  inputElement.parentElement.appendChild(cancel);\n",
              "  cancel.textContent = 'Cancel upload';\n",
              "  const cancelPromise = new Promise((resolve) => {\n",
              "    cancel.onclick = () => {\n",
              "      resolve(null);\n",
              "    };\n",
              "  });\n",
              "\n",
              "  // Wait for the user to pick the files.\n",
              "  const files = yield {\n",
              "    promise: Promise.race([pickedPromise, cancelPromise]),\n",
              "    response: {\n",
              "      action: 'starting',\n",
              "    }\n",
              "  };\n",
              "\n",
              "  cancel.remove();\n",
              "\n",
              "  // Disable the input element since further picks are not allowed.\n",
              "  inputElement.disabled = true;\n",
              "\n",
              "  if (!files) {\n",
              "    return {\n",
              "      response: {\n",
              "        action: 'complete',\n",
              "      }\n",
              "    };\n",
              "  }\n",
              "\n",
              "  for (const file of files) {\n",
              "    const li = document.createElement('li');\n",
              "    li.append(span(file.name, {fontWeight: 'bold'}));\n",
              "    li.append(span(\n",
              "        `(${file.type || 'n/a'}) - ${file.size} bytes, ` +\n",
              "        `last modified: ${\n",
              "            file.lastModifiedDate ? file.lastModifiedDate.toLocaleDateString() :\n",
              "                                    'n/a'} - `));\n",
              "    const percent = span('0% done');\n",
              "    li.appendChild(percent);\n",
              "\n",
              "    outputElement.appendChild(li);\n",
              "\n",
              "    const fileDataPromise = new Promise((resolve) => {\n",
              "      const reader = new FileReader();\n",
              "      reader.onload = (e) => {\n",
              "        resolve(e.target.result);\n",
              "      };\n",
              "      reader.readAsArrayBuffer(file);\n",
              "    });\n",
              "    // Wait for the data to be ready.\n",
              "    let fileData = yield {\n",
              "      promise: fileDataPromise,\n",
              "      response: {\n",
              "        action: 'continue',\n",
              "      }\n",
              "    };\n",
              "\n",
              "    // Use a chunked sending to avoid message size limits. See b/62115660.\n",
              "    let position = 0;\n",
              "    do {\n",
              "      const length = Math.min(fileData.byteLength - position, MAX_PAYLOAD_SIZE);\n",
              "      const chunk = new Uint8Array(fileData, position, length);\n",
              "      position += length;\n",
              "\n",
              "      const base64 = btoa(String.fromCharCode.apply(null, chunk));\n",
              "      yield {\n",
              "        response: {\n",
              "          action: 'append',\n",
              "          file: file.name,\n",
              "          data: base64,\n",
              "        },\n",
              "      };\n",
              "\n",
              "      let percentDone = fileData.byteLength === 0 ?\n",
              "          100 :\n",
              "          Math.round((position / fileData.byteLength) * 100);\n",
              "      percent.textContent = `${percentDone}% done`;\n",
              "\n",
              "    } while (position < fileData.byteLength);\n",
              "  }\n",
              "\n",
              "  // All done.\n",
              "  yield {\n",
              "    response: {\n",
              "      action: 'complete',\n",
              "    }\n",
              "  };\n",
              "}\n",
              "\n",
              "scope.google = scope.google || {};\n",
              "scope.google.colab = scope.google.colab || {};\n",
              "scope.google.colab._files = {\n",
              "  _uploadFiles,\n",
              "  _uploadFilesContinue,\n",
              "};\n",
              "})(self);\n",
              "</script> "
            ]
          },
          "metadata": {}
        },
        {
          "output_type": "stream",
          "name": "stdout",
          "text": [
            "Saving Data.7z to Data.7z\n",
            "文件 Data.7z 解压到 data 文件夹.\n"
          ]
        }
      ]
    },
    {
      "cell_type": "code",
      "source": [
        "def DataLoderTest():\n",
        "    # 获取当前脚本所在目录，并拼接 Capture 文件夹路径\n",
        "    # current_dir = os.path.dirname(os.path.abspath(__file__))\n",
        "    current_dir = os.getcwd()\n",
        "    capture_folder = os.path.join(current_dir, DataFolder)\n",
        "    capture_folder = os.path.join(capture_folder, \"Data\")\n",
        "\n",
        "    # 定义图像预处理（调整尺寸和归一化，符合 ResNet50 要求）\n",
        "    transform = transforms.Compose([\n",
        "        ResizePad((224, 224), fill=(0, 0, 0)),  # 使用黑色填充\n",
        "        transforms.ToTensor(),\n",
        "        transforms.Normalize(mean=[0.485, 0.456, 0.406],\n",
        "                            std=[0.229, 0.224, 0.225])\n",
        "    ])\n",
        "\n",
        "    # 初始化 Dataset 和 DataLoader\n",
        "    dataset = CaptureDataset(root_dir=capture_folder, transform=transform)\n",
        "    dataloader = DataLoader(dataset, batch_size=32, shuffle=True, num_workers=2)\n",
        "\n",
        "    # 测试 DataLoader 是否正确加载数据\n",
        "    for images, inputs, targets in dataloader:\n",
        "        print(\"Image batch shape:\", images.shape)   # 应为 (batch_size, 3, 224, 224)\n",
        "        print(\"Input params shape:\", inputs.shape)    # 应为 (batch_size, 4)\n",
        "        print(\"Target shape:\", targets.shape)         # 应为 (batch_size, 4)\n",
        "\n",
        "        # 反归一化图像数据\n",
        "        mean = torch.tensor([0.485, 0.456, 0.406])\n",
        "        std = torch.tensor([0.229, 0.224, 0.225])\n",
        "        img = images[0] * std[:, None, None] + mean[:, None, None]\n",
        "        img = img.permute(1, 2, 0).numpy()  # 调整维度顺序以适应 matplotlib\n",
        "        img = (img * 255).astype('uint8')  # 转换为 uint8 类型\n",
        "        plt.imshow(img)\n",
        "        plt.show()\n",
        "        break"
      ],
      "metadata": {
        "id": "iQq8OSejryyQ"
      },
      "execution_count": null,
      "outputs": []
    },
    {
      "cell_type": "code",
      "execution_count": null,
      "metadata": {
        "id": "7OtWP9cID2yG"
      },
      "outputs": [],
      "source": [
        "def main():\n",
        "    # 检查设备\n",
        "    use_cuda = torch.cuda.is_available()\n",
        "    use_mps = torch.backends.mps.is_available()\n",
        "    if use_cuda:\n",
        "        device = torch.device(\"cuda\")\n",
        "        print(\"Using CUDA\")\n",
        "    elif use_mps:\n",
        "        device = torch.device(\"mps\")\n",
        "        print(\"Using MPS\")\n",
        "    else:\n",
        "        device = torch.device(\"cpu\")\n",
        "        print(\"Using CPU\")\n",
        "\n",
        "    # 获取当前脚本所在目录，并拼接 Capture 文件夹路径\n",
        "    # current_dir = os.path.dirname(os.path.abspath(__file__))\n",
        "    current_dir = os.getcwd()\n",
        "    capture_folder = os.path.join(current_dir, DataFolder, \"Data\")\n",
        "\n",
        "    # 定义图像预处理（调整尺寸和归一化，符合 ResNet50 要求）\n",
        "    transform = transforms.Compose([\n",
        "        ResizePad((224, 224), fill=(0, 0, 0)),  # 使用黑色填充\n",
        "        transforms.ToTensor(),\n",
        "        transforms.Normalize(mean=[0.485, 0.456, 0.406],\n",
        "                            std=[0.229, 0.224, 0.225])\n",
        "    ])\n",
        "\n",
        "    # 初始化 Dataset 和 DataLoader\n",
        "    dataset = CaptureDataset(root_dir=capture_folder, transform=transform)\n",
        "    dataloader = DataLoader(dataset, batch_size=32, shuffle=True, num_workers=2)\n",
        "\n",
        "    # 创建模型\n",
        "    model = ClickPredictionModel().to(device)\n",
        "    optimizer = optim.Adam(model.parameters(), lr=1e-4)\n",
        "\n",
        "    # 读取模型\n",
        "    if os.path.exists(\"click_prediction_model.pth\"):\n",
        "        model.load_state_dict(torch.load(\"click_prediction_model.pth\", map_location=device))\n",
        "\n",
        "    # 训练模型\n",
        "    epochs = 5\n",
        "    loss_fn = nn.SmoothL1Loss()\n",
        "    for epoch in range(epochs):\n",
        "        for img, input_xy, target_xy in dataloader:\n",
        "            img, input_xy, target_xy = img.to(device), input_xy.to(device), target_xy.to(device)\n",
        "            optimizer.zero_grad()\n",
        "            output_xy = model(img, input_xy)\n",
        "            loss = loss_fn(output_xy, target_xy)\n",
        "            loss.backward()\n",
        "            optimizer.step()\n",
        "        print(f\"Epoch {epoch}, Loss: {loss.item()}\")\n",
        "        # 保存模型\n",
        "        torch.save(model.state_dict(), \"click_prediction_model.pth\")\n"
      ]
    },
    {
      "cell_type": "code",
      "source": [
        "DataLoderTest()"
      ],
      "metadata": {
        "colab": {
          "base_uri": "https://localhost:8080/",
          "height": 486
        },
        "id": "UuG2du_FMBc6",
        "outputId": "57bb76c7-dc4d-49e0-e50d-645611b5746b"
      },
      "execution_count": null,
      "outputs": [
        {
          "output_type": "stream",
          "name": "stdout",
          "text": [
            "Image batch shape: torch.Size([32, 3, 224, 224])\n",
            "Input params shape: torch.Size([32, 4])\n",
            "Target shape: torch.Size([32, 2])\n"
          ]
        },
        {
          "output_type": "display_data",
          "data": {
            "text/plain": [
              "<Figure size 640x480 with 1 Axes>"
            ],
            "image/png": "[encoded data removed]"
          },
          "metadata": {}
        }
      ]
    },
    {
      "cell_type": "code",
      "source": [
        "# 检查设备\n",
        "use_cuda = torch.cuda.is_available()\n",
        "use_mps = torch.backends.mps.is_available()\n",
        "if use_cuda:\n",
        "  device = torch.device(\"cuda\")\n",
        "  print(\"Using CUDA\")\n",
        "elif use_mps:\n",
        "  device = torch.device(\"mps\")\n",
        "  print(\"Using MPS\")\n",
        "else:\n",
        "  device = torch.device(\"cpu\")\n",
        "  print(\"Using CPU\")\n",
        "\n",
        "# 获取当前脚本所在目录，并拼接 Capture 文件夹路径\n",
        "# current_dir = os.path.dirname(os.path.abspath(__file__))\n",
        "current_dir = os.getcwd()\n",
        "capture_folder = os.path.join(current_dir, DataFolder, \"Data\")\n",
        "\n",
        "# 定义图像预处理（调整尺寸和归一化，符合 ResNet50 要求）\n",
        "transform = transforms.Compose([\n",
        "    ResizePad((224, 224), fill=(0, 0, 0)),  # 使用黑色填充\n",
        "    transforms.ToTensor(),\n",
        "    transforms.Normalize(mean=[0.485, 0.456, 0.406],\n",
        "                        std=[0.229, 0.224, 0.225])\n",
        "])\n",
        "\n",
        "# 初始化 Dataset 和 DataLoader\n",
        "dataset = CaptureDataset(root_dir=capture_folder, transform=transform)\n",
        "dataloader = DataLoader(dataset, batch_size=32, shuffle=True, num_workers=2)\n",
        "\n",
        "# 创建模型\n",
        "model = ClickPredictionModel().to(device)\n",
        "optimizer = optim.Adam(model.parameters(), lr=1e-4)\n",
        "\n",
        "modle_path = os.path.join(DataFolder,\"click_prediction_model.pth\")\n",
        "\n",
        "# 读取模型\n",
        "if os.path.exists(modle_path):\n",
        "  model.load_state_dict(torch.load(modle_path, map_location=device))\n",
        "\n",
        "# 训练模型\n",
        "epochs = 100\n",
        "loss_fn = nn.SmoothL1Loss()\n",
        "\n",
        "for epoch in range(epochs):\n",
        "  for img, input_xy, target_xy in dataloader:\n",
        "    img, input_xy, target_xy = img.to(device), input_xy.to(device), target_xy.to(device)\n",
        "    optimizer.zero_grad()\n",
        "    output_xy = model(img, input_xy)\n",
        "    loss = loss_fn(output_xy, target_xy)\n",
        "    loss.backward()\n",
        "    optimizer.step()\n",
        "  print(f\"Epoch {epoch}, Loss: {loss.item()}\")\n",
        "  # 保存模型\n",
        "  torch.save(model.state_dict(), modle_path)"
      ],
      "metadata": {
        "colab": {
          "base_uri": "https://localhost:8080/"
        },
        "id": "gYvVCwjNE5lV",
        "outputId": "b508591f-a9f5-4c8f-bbb1-52ffd133245d"
      },
      "execution_count": null,
      "outputs": [
        {
          "output_type": "stream",
          "name": "stdout",
          "text": [
            "Using CUDA\n"
          ]
        },
        {
          "output_type": "stream",
          "name": "stderr",
          "text": [
            "/usr/local/lib/python3.11/dist-packages/torchvision/models/_utils.py:208: UserWarning: The parameter 'pretrained' is deprecated since 0.13 and may be removed in the future, please use 'weights' instead.\n",
            "  warnings.warn(\n",
            "/usr/local/lib/python3.11/dist-packages/torchvision/models/_utils.py:223: UserWarning: Arguments other than a weight enum or `None` for 'weights' are deprecated since 0.13 and may be removed in the future. The current behavior is equivalent to passing `weights=ResNet50_Weights.IMAGENET1K_V1`. You can also use `weights=ResNet50_Weights.DEFAULT` to get the most up-to-date weights.\n",
            "  warnings.warn(msg)\n"
          ]
        },
        {
          "output_type": "stream",
          "name": "stdout",
          "text": [
            "Epoch 0, Loss: 426.48748779296875\n",
            "Epoch 1, Loss: 341.83404541015625\n",
            "Epoch 2, Loss: 276.07720947265625\n",
            "Epoch 3, Loss: 191.48948669433594\n",
            "Epoch 4, Loss: 115.88409423828125\n",
            "Epoch 5, Loss: 36.12302780151367\n",
            "Epoch 6, Loss: 24.980363845825195\n",
            "Epoch 7, Loss: 23.964702606201172\n",
            "Epoch 8, Loss: 31.800086975097656\n",
            "Epoch 9, Loss: 22.753650665283203\n",
            "Epoch 10, Loss: 38.48667907714844\n",
            "Epoch 11, Loss: 17.717016220092773\n",
            "Epoch 12, Loss: 17.320316314697266\n",
            "Epoch 13, Loss: 23.406129837036133\n",
            "Epoch 14, Loss: 18.258045196533203\n",
            "Epoch 15, Loss: 15.55550765991211\n",
            "Epoch 16, Loss: 28.362491607666016\n",
            "Epoch 17, Loss: 17.143417358398438\n",
            "Epoch 18, Loss: 24.32808494567871\n",
            "Epoch 19, Loss: 26.398408889770508\n",
            "Epoch 20, Loss: 22.147422790527344\n",
            "Epoch 21, Loss: 17.927230834960938\n",
            "Epoch 22, Loss: 17.086118698120117\n",
            "Epoch 23, Loss: 21.64713478088379\n",
            "Epoch 24, Loss: 13.697104454040527\n",
            "Epoch 25, Loss: 10.415213584899902\n",
            "Epoch 26, Loss: 19.23255729675293\n",
            "Epoch 27, Loss: 14.642834663391113\n",
            "Epoch 28, Loss: 10.961564064025879\n",
            "Epoch 29, Loss: 10.63907241821289\n",
            "Epoch 30, Loss: 8.46058177947998\n",
            "Epoch 31, Loss: 19.653583526611328\n",
            "Epoch 32, Loss: 16.29707908630371\n",
            "Epoch 33, Loss: 11.957117080688477\n",
            "Epoch 34, Loss: 13.250551223754883\n",
            "Epoch 35, Loss: 14.385882377624512\n",
            "Epoch 36, Loss: 9.032981872558594\n",
            "Epoch 37, Loss: 11.993671417236328\n",
            "Epoch 38, Loss: 16.974271774291992\n",
            "Epoch 39, Loss: 14.529744148254395\n",
            "Epoch 40, Loss: 8.60431957244873\n",
            "Epoch 41, Loss: 11.844066619873047\n",
            "Epoch 42, Loss: 7.359611511230469\n",
            "Epoch 43, Loss: 11.475976943969727\n",
            "Epoch 44, Loss: 8.941473007202148\n",
            "Epoch 45, Loss: 25.218626022338867\n",
            "Epoch 46, Loss: 10.401580810546875\n",
            "Epoch 47, Loss: 4.789041042327881\n",
            "Epoch 48, Loss: 11.51582145690918\n",
            "Epoch 49, Loss: 6.403234004974365\n",
            "Epoch 50, Loss: 10.236659049987793\n",
            "Epoch 51, Loss: 5.3277812004089355\n",
            "Epoch 52, Loss: 5.9398417472839355\n",
            "Epoch 53, Loss: 4.417520046234131\n",
            "Epoch 54, Loss: 8.300724983215332\n",
            "Epoch 55, Loss: 9.665695190429688\n",
            "Epoch 56, Loss: 13.22728443145752\n",
            "Epoch 57, Loss: 12.527935981750488\n",
            "Epoch 58, Loss: 8.451553344726562\n",
            "Epoch 59, Loss: 5.671736717224121\n",
            "Epoch 60, Loss: 5.912138938903809\n",
            "Epoch 61, Loss: 8.475666999816895\n",
            "Epoch 62, Loss: 12.629534721374512\n",
            "Epoch 63, Loss: 3.0744943618774414\n",
            "Epoch 64, Loss: 5.229842185974121\n",
            "Epoch 65, Loss: 9.959307670593262\n",
            "Epoch 66, Loss: 7.999931335449219\n",
            "Epoch 67, Loss: 6.278641223907471\n",
            "Epoch 68, Loss: 3.880950450897217\n",
            "Epoch 69, Loss: 6.618541240692139\n",
            "Epoch 70, Loss: 5.339234828948975\n",
            "Epoch 71, Loss: 1.9626332521438599\n",
            "Epoch 72, Loss: 4.654871940612793\n",
            "Epoch 73, Loss: 3.8466200828552246\n",
            "Epoch 74, Loss: 6.300565242767334\n",
            "Epoch 75, Loss: 15.185022354125977\n",
            "Epoch 76, Loss: 3.033898115158081\n",
            "Epoch 77, Loss: 3.2426652908325195\n",
            "Epoch 78, Loss: 2.990839958190918\n",
            "Epoch 79, Loss: 4.510495185852051\n",
            "Epoch 80, Loss: 8.700894355773926\n",
            "Epoch 81, Loss: 3.942476749420166\n",
            "Epoch 82, Loss: 3.356278657913208\n",
            "Epoch 83, Loss: 9.713595390319824\n",
            "Epoch 84, Loss: 5.263385772705078\n",
            "Epoch 85, Loss: 8.571792602539062\n",
            "Epoch 86, Loss: 3.0383574962615967\n",
            "Epoch 87, Loss: 2.659851551055908\n",
            "Epoch 88, Loss: 5.126284122467041\n",
            "Epoch 89, Loss: 5.674981117248535\n",
            "Epoch 90, Loss: 3.143679141998291\n",
            "Epoch 91, Loss: 3.3325066566467285\n",
            "Epoch 92, Loss: 4.277694225311279\n",
            "Epoch 93, Loss: 5.42467737197876\n",
            "Epoch 94, Loss: 7.56377649307251\n",
            "Epoch 95, Loss: 6.501883506774902\n",
            "Epoch 96, Loss: 4.804776668548584\n",
            "Epoch 97, Loss: 2.338290214538574\n",
            "Epoch 98, Loss: 6.005875110626221\n",
            "Epoch 99, Loss: 14.699357986450195\n"
          ]
        }
      ]
    },
    {
      "cell_type": "code",
      "source": [
        "use_cuda = torch.cuda.is_available()\n",
        "use_cuda"
      ],
      "metadata": {
        "colab": {
          "base_uri": "https://localhost:8080/"
        },
        "id": "WzkSBoENJxXH",
        "outputId": "f70758fe-5473-4d99-b7a5-050def28e730"
      },
      "execution_count": null,
      "outputs": [
        {
          "output_type": "execute_result",
          "data": {
            "text/plain": [
              "True"
            ]
          },
          "metadata": {},
          "execution_count": 5
        }
      ]
    },
    {
      "cell_type": "markdown",
      "source": [
        "# 新段落"
      ],
      "metadata": {
        "id": "3OiqiJZOE8q6"
      }
    },
    {
      "cell_type": "code",
      "source": [
        "from google.colab import drive\n",
        "drive.mount('/content/drive')"
      ],
      "metadata": {
        "colab": {
          "base_uri": "https://localhost:8080/"
        },
        "id": "TXUlzuzcERCf",
        "outputId": "2a2cdbda-715d-4dd9-88de-d29821bf8beb"
      },
      "execution_count": null,
      "outputs": [
        {
          "output_type": "stream",
          "name": "stdout",
          "text": [
            "Mounted at /content/drive\n"
          ]
        }
      ]
    }
  ]
}